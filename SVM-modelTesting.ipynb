{
 "cells": [
  {
   "cell_type": "code",
   "execution_count": 16,
   "metadata": {},
   "outputs": [],
   "source": [
    "from sklearn.ensemble import RandomForestRegressor\n",
    "## Install XGBOOST in the Anaconda envo using:  conda install -c conda-forge xgboost \n",
    "from sklearn import neighbors\n",
    "from sklearn.tree import DecisionTreeClassifier\n",
    "from sklearn.naive_bayes import GaussianNB\n",
    "from sklearn.svm import SVC\n",
    "from sklearn.neighbors import KNeighborsRegressor\n",
    "from sklearn.tree import DecisionTreeRegressor\n",
    "from sklearn.linear_model import LogisticRegression\n",
    "from sklearn import linear_model\n",
    "from sklearn.metrics import mean_squared_error\n",
    "import seaborn as sns\n",
    "import matplotlib.pyplot as plt\n",
    "from sklearn import model_selection\n",
    "from sklearn.model_selection import train_test_split\n",
    "import pandas as pd\n",
    "import numpy as np\n",
    "import math\n",
    "from statistics import mean\n",
    "import seaborn as sns \n",
    "%matplotlib inline \n",
    "import xgboost as xgb\n",
    "from xgboost import XGBClassifier\n",
    "from scipy.stats import pearsonr\n",
    "from sklearn import tree, linear_model\n",
    "from sklearn.metrics import explained_variance_score\n",
    "from sklearn.decomposition import PCA\n",
    "from sklearn.preprocessing import StandardScaler\n",
    "from sklearn import preprocessing\n",
    "from sklearn.metrics import make_scorer, accuracy_score\n",
    "from sklearn.model_selection import GridSearchCV\n",
    "from timeit import default_timer\n",
    "from sklearn.metrics import r2_score\n",
    "from sklearn.model_selection import cross_val_score\n",
    "from sklearn.metrics import confusion_matrix\n"
   ]
  },
  {
   "cell_type": "code",
   "execution_count": 17,
   "metadata": {},
   "outputs": [
    {
     "name": "stdout",
     "output_type": "stream",
     "text": [
      "length of supData:  21263\n",
      "features in the data set:  82\n",
      "data type:  [dtype('int64') dtype('float64')]\n",
      "Check NaN in coloumn :  0  /  82\n",
      "Check NaN in rows :  0  /  21263\n",
      "length of bigdata:  21263\n",
      "length Cu:  10838 length of O:  11964 length of Fe 2339\n"
     ]
    }
   ],
   "source": [
    "# Read the data into a data frame\n",
    "supData = pd.read_csv(\"train.csv\", delimiter=\",\")\n",
    "print(\"length of supData: \", len(supData))\n",
    "# Check the number of features in the data set\n",
    "print(\"features in the data set: \", len(supData.columns))\n",
    "# Check the data types\n",
    "print(\"data type: \", supData.dtypes.unique())\n",
    "\n",
    "# Check any number of columns with NaN\n",
    "print(\"Check NaN in coloumn : \", supData.isnull().any().sum(), ' / ', len(supData.columns))\n",
    "# Check any number of data points with NaN\n",
    "print(\"Check NaN in rows : \", supData.isnull().any(axis=1).sum(), ' / ', len(supData))\n",
    "\n",
    "\n",
    "# Read the unique_m.csv data\n",
    "supData_ele = pd.read_csv(\"unique_m.csv\", delimiter=\",\")\n",
    "supData_ele_ = supData_ele[['Cu','O','Fe','material']] # select columns contain Cu, O, Fe\n",
    "\n",
    "bigdata =pd.concat([supData, supData_ele_], axis=1) # To merge across columns\n",
    "print(\"length of bigdata: \", len(bigdata))\n",
    "#bigdata.to_csv('file_name.csv', sep='\\t') # To save the output data to a .csv file\n",
    "\n",
    "supData_ele_Cu = bigdata.loc[~bigdata['Cu'].isin(['0'])] # Delete 0 for the Cu column\n",
    "supData_ele_O = bigdata.loc[~bigdata['O'].isin(['0'])] # Delete 0 for the O column\n",
    "supData_ele_Fe = bigdata.loc[~bigdata['Fe'].isin(['0'])] # Delete 0 for the Fe column\n",
    "\n",
    "\n",
    "\n",
    "\n",
    "print(\"length Cu: \", len(supData_ele_Cu), \"length of O: \", len(supData_ele_O), \"length of Fe\", len(supData_ele_Fe))\n",
    "#supData_ele_Cu.to_csv('file_name_Cu.csv', sep='\\t') # To save the output data to a .csv file\n",
    "#supData_ele_O.to_csv('file_name_O.csv', sep='\\t') # To save the output data to a .csv file\n",
    "#supData_ele_Fe.to_csv('file_name_Fe.csv', sep='\\t') # To save the output data to a .csv file"
   ]
  },
  {
   "cell_type": "code",
   "execution_count": 18,
   "metadata": {},
   "outputs": [],
   "source": [
    "def load_Data(Data):\n",
    "    myData = pd.DataFrame(Data)\n",
    "    #--------------\n",
    "    # Extract features and target data\n",
    "    target = myData.iloc[:,-5] # get the 5th column from the last of the data frame\n",
    "    features = myData.drop(['critical_temp','Cu', 'O', 'Fe','material'], axis=1)\n",
    "    features_normalized = preprocessing.normalize(features, norm='l2', axis=1, copy=True, return_norm=False)\n",
    "\n",
    "    X_train, X_test, y_train, y_test = train_test_split(features_normalized, target, test_size=0.33)\n",
    "    #return X_train, X_test, y_train, y_test, features, target #return already normalized features.\n",
    "    \n",
    "    return X_train, X_test, y_train, y_test\n",
    "\n",
    "\n",
    "def Grid_Search_CV_SVM(X_train, y_train):\n",
    "    estimator = SVR()\n",
    "\n",
    "    parameters = {'kernel': ['sigmoid', 'rbf'], \n",
    "              'gamma': ['auto'], \n",
    "               'coef0': [0.0, 0.1],\n",
    "             }\n",
    "\n",
    "    grid = GridSearchCV(estimator, parameters, n_jobs=-1, cv=10)\n",
    "\n",
    "    grid.fit(X_train, y_train)\n",
    "\n",
    "    return grid.best_score_ , grid.best_params_\n",
    "\n",
    "def SVM(X_train, X_test, y_train, y_test, best_params):\n",
    "    estimator = SVR().set_params(**best_params)\n",
    "    estimator.fit(X_train,y_train)\n",
    "    y_predict = estimator.predict(X_test)\n",
    "    return y_test,y_predict"
   ]
  },
  {
   "cell_type": "code",
   "execution_count": 19,
   "metadata": {},
   "outputs": [
    {
     "name": "stdout",
     "output_type": "stream",
     "text": [
      "Loop:  0\n",
      "--------------\n",
      "Best Score: 0.0010667623111927714\n",
      "Best params: {'coef0': 0.0, 'gamma': 'auto', 'kernel': 'rbf'}\n",
      "Loop:  1\n",
      "--------------\n",
      "Best Score: 0.0001142351592256207\n",
      "Best params: {'coef0': 0.0, 'gamma': 'auto', 'kernel': 'rbf'}\n",
      "Loop:  2\n",
      "--------------\n",
      "Best Score: -0.0005175159468432604\n",
      "Best params: {'coef0': 0.0, 'gamma': 'auto', 'kernel': 'rbf'}\n"
     ]
    }
   ],
   "source": [
    "## O based superconductors\n",
    "\n",
    "for i in range(3):\n",
    "    print (\"Loop: \" , i)\n",
    "    print (\"--------------\")\n",
    "    X_train, X_test, y_train, y_test = load_Data(supData_ele_O)\n",
    "    best_score, best_params = Grid_Search_CV_SVM(X_train, y_train)\n",
    "    y_test , y_predict = SVM(X_train, X_test, y_train, y_test, best_params)\n",
    "\n",
    "    print (\"Best Score:\" ,best_score)\n",
    "    print (\"Best params:\",best_params)"
   ]
  },
  {
   "cell_type": "code",
   "execution_count": 15,
   "metadata": {},
   "outputs": [
    {
     "name": "stdout",
     "output_type": "stream",
     "text": [
      "Loop:  0\n",
      "--------------\n",
      "Best Score: -0.0035257088952374413\n",
      "Best params: {'coef0': 0.0, 'gamma': 'auto', 'kernel': 'rbf'}\n",
      "Loop:  1\n",
      "--------------\n",
      "Best Score: 0.000437690977101574\n",
      "Best params: {'coef0': 0.0, 'gamma': 'auto', 'kernel': 'rbf'}\n",
      "Loop:  2\n",
      "--------------\n",
      "Best Score: -0.0017181939292441068\n",
      "Best params: {'coef0': 0.0, 'gamma': 'auto', 'kernel': 'rbf'}\n"
     ]
    }
   ],
   "source": [
    "## Copper based superconductors\n",
    "for i in range(3):\n",
    "    print (\"Loop: \" , i)\n",
    "    print (\"--------------\")\n",
    "    X_train, X_test, y_train, y_test = load_Data(supData_ele_Cu)\n",
    "    best_score, best_params = Grid_Search_CV_SVM(X_train, y_train)\n",
    "    y_test , y_predict = SVM(X_train, X_test, y_train, y_test, best_params)\n",
    "\n",
    "    print (\"Best Score:\" ,best_score)\n",
    "    print (\"Best params:\",best_params)"
   ]
  },
  {
   "cell_type": "code",
   "execution_count": 1,
   "metadata": {},
   "outputs": [],
   "source": [
    "## SVM performs very poorly for this dataset"
   ]
  },
  {
   "cell_type": "code",
   "execution_count": null,
   "metadata": {},
   "outputs": [],
   "source": []
  }
 ],
 "metadata": {
  "kernelspec": {
   "display_name": "Python 3",
   "language": "python",
   "name": "python3"
  },
  "language_info": {
   "codemirror_mode": {
    "name": "ipython",
    "version": 3
   },
   "file_extension": ".py",
   "mimetype": "text/x-python",
   "name": "python",
   "nbconvert_exporter": "python",
   "pygments_lexer": "ipython3",
   "version": "3.7.3"
  }
 },
 "nbformat": 4,
 "nbformat_minor": 2
}
